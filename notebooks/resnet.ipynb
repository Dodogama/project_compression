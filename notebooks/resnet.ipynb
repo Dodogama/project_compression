{
 "cells": [
  {
   "cell_type": "code",
   "execution_count": 1,
   "metadata": {},
   "outputs": [],
   "source": [
    "import os\n",
    "import sys\n",
    "project_dir = os.path.dirname(os.getcwd())\n",
    "sys.path.append(project_dir)"
   ]
  },
  {
   "cell_type": "code",
   "execution_count": 2,
   "metadata": {},
   "outputs": [
    {
     "name": "stdout",
     "output_type": "stream",
     "text": [
      "cuda\n"
     ]
    }
   ],
   "source": [
    "import torch\n",
    "device = 'cuda' if torch.cuda.is_available() else 'cpu'\n",
    "seed = torch.Generator().manual_seed(42)\n",
    "print(device)"
   ]
  },
  {
   "cell_type": "markdown",
   "metadata": {},
   "source": [
    "# Data Ingestion"
   ]
  },
  {
   "cell_type": "code",
   "execution_count": 3,
   "metadata": {},
   "outputs": [
    {
     "name": "stdout",
     "output_type": "stream",
     "text": [
      "Files already downloaded and verified\n",
      "Files already downloaded and verified\n",
      "Shape of training batch inputs: torch.Size([32, 3, 32, 32])\n",
      "Shape of training batch labels: torch.Size([32])\n",
      "Shape of validation batch inputs: torch.Size([32, 3, 32, 32])\n",
      "Shape of validation batch labels: torch.Size([32])\n",
      "Shape of testing batch inputs: torch.Size([32, 3, 32, 32])\n",
      "Shape of testing batch labels: torch.Size([32])\n",
      "CIFAR-10 dataset loaded into PyTorch DataLoaders.\n"
     ]
    }
   ],
   "source": [
    "from data.cifar10 import get_cifar10_pipeline\n",
    "\n",
    "train_loader, val_loader, test_loader = get_cifar10_pipeline(batch_size=32)\n",
    "for i, data in enumerate(train_loader, 0):\n",
    "    inputs, labels = data\n",
    "    if i == 0:\n",
    "        print(\"Shape of training batch inputs:\", inputs.shape)\n",
    "        print(\"Shape of training batch labels:\", labels.shape)\n",
    "        break\n",
    "for i, data in enumerate(val_loader, 0):\n",
    "    inputs, labels = data\n",
    "    if i == 0:\n",
    "        print(\"Shape of validation batch inputs:\", inputs.shape)\n",
    "        print(\"Shape of validation batch labels:\", labels.shape)\n",
    "        break\n",
    "for i, data in enumerate(test_loader, 0):\n",
    "    inputs, labels = data\n",
    "    if i == 0:\n",
    "        print(\"Shape of testing batch inputs:\", inputs.shape)\n",
    "        print(\"Shape of testing batch labels:\", labels.shape)\n",
    "        break\n",
    "print(\"CIFAR-10 dataset loaded into PyTorch DataLoaders.\")"
   ]
  },
  {
   "cell_type": "markdown",
   "metadata": {},
   "source": [
    "# Model"
   ]
  },
  {
   "cell_type": "code",
   "execution_count": 4,
   "metadata": {},
   "outputs": [
    {
     "name": "stdout",
     "output_type": "stream",
     "text": [
      "Teacher model stats:\n"
     ]
    },
    {
     "name": "stderr",
     "output_type": "stream",
     "text": [
      "Unsupported operator aten::max_pool2d encountered 1 time(s)\n",
      "Unsupported operator aten::add_ encountered 16 time(s)\n",
      "Unsupported operator aten::max_pool2d encountered 1 time(s)\n",
      "Unsupported operator aten::add_ encountered 16 time(s)\n"
     ]
    },
    {
     "name": "stdout",
     "output_type": "stream",
     "text": [
      "flops: 1198694400\n",
      "params: 21289802\n",
      "Student model stats:\n",
      "flops: 1342193664\n",
      "params: 23528522\n"
     ]
    }
   ],
   "source": [
    "import torch\n",
    "import torch.optim as optim\n",
    "import models.resnet as resnet\n",
    "from utils.summary import get_model_stats\n",
    "\n",
    "teacher = resnet.resnet34(num_classes=10).to(device)\n",
    "student = resnet.resnet50(num_classes=10).to(device)\n",
    "\n",
    "# note batch size and input shape influence FLOPS and params\n",
    "sample = torch.randn(16, 3, 32, 32).to(device)\n",
    "with torch.no_grad():\n",
    "    print(\"Teacher model stats:\")\n",
    "    pred = teacher(sample)\n",
    "    for name, param in get_model_stats(teacher, sample.shape).items():\n",
    "        print(f\"{name}: {param}\")\n",
    "    print(\"Student model stats:\")\n",
    "    pred = teacher(sample)\n",
    "    for name, param in get_model_stats(student, sample.shape).items():\n",
    "        print(f\"{name}: {param}\")"
   ]
  },
  {
   "cell_type": "code",
   "execution_count": null,
   "metadata": {},
   "outputs": [],
   "source": []
  }
 ],
 "metadata": {
  "kernelspec": {
   "display_name": "stock_ts",
   "language": "python",
   "name": "python3"
  },
  "language_info": {
   "codemirror_mode": {
    "name": "ipython",
    "version": 3
   },
   "file_extension": ".py",
   "mimetype": "text/x-python",
   "name": "python",
   "nbconvert_exporter": "python",
   "pygments_lexer": "ipython3",
   "version": "3.12.9"
  }
 },
 "nbformat": 4,
 "nbformat_minor": 2
}
